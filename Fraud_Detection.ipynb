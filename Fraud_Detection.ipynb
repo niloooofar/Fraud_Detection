{
  "nbformat": 4,
  "nbformat_minor": 0,
  "metadata": {
    "colab": {
      "name": "Fraud_Detection.ipynb",
      "provenance": [],
      "collapsed_sections": []
    },
    "kernelspec": {
      "name": "python3",
      "display_name": "Python 3"
    },
    "language_info": {
      "name": "python"
    }
  },
  "cells": [
    {
      "cell_type": "markdown",
      "metadata": {
        "id": "pXMCwpxvvkxM"
      },
      "source": [
        "## Imports Part"
      ]
    },
    {
      "cell_type": "code",
      "metadata": {
        "id": "igLZJgZRvbl7"
      },
      "source": [
        "import pandas as pd \n",
        "import numpy as np\n",
        "import random\n",
        "from google.colab import files\n",
        "import io\n",
        "import seaborn as sns\n",
        "import matplotlib.pyplot as plt\n",
        "from sklearn.preprocessing import OneHotEncoder\n",
        "from sklearn.preprocessing import LabelEncoder, OneHotEncoder\n",
        "from sklearn.model_selection import train_test_split\n",
        "from sklearn.ensemble import RandomForestClassifier\n",
        "from sklearn.preprocessing import StandardScaler\n",
        "from sklearn.metrics import accuracy_score, recall_score, precision_score, f1_score, roc_auc_score\n",
        "from sklearn.preprocessing import MinMaxScaler\n",
        "from sklearn.utils import resample\n",
        "from sklearn.ensemble import RandomForestClassifier\n",
        "from scipy.stats import chi2_contingency"
      ],
      "execution_count": null,
      "outputs": []
    },
    {
      "cell_type": "markdown",
      "metadata": {
        "id": "iCx2FrHvvsHg"
      },
      "source": [
        "## Read Data"
      ]
    },
    {
      "cell_type": "code",
      "metadata": {
        "colab": {
          "resources": {
            "http://localhost:8080/nbextensions/google.colab/files.js": {
              "data": "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",
              "ok": true,
              "headers": [
                [
                  "content-type",
                  "application/javascript"
                ]
              ],
              "status": 200,
              "status_text": "OK"
            }
          },
          "base_uri": "https://localhost:8080/",
          "height": 75
        },
        "id": "Vuok-G_Svdiy",
        "outputId": "7fa3e0b8-bef9-49c7-bf09-af574f858fa3"
      },
      "source": [
        "uploaded = files.upload()"
      ],
      "execution_count": null,
      "outputs": [
        {
          "output_type": "display_data",
          "data": {
            "text/html": [
              "\n",
              "     <input type=\"file\" id=\"files-d28178fc-1e11-41c8-829e-c0e7fdac2176\" name=\"files[]\" multiple disabled\n",
              "        style=\"border:none\" />\n",
              "     <output id=\"result-d28178fc-1e11-41c8-829e-c0e7fdac2176\">\n",
              "      Upload widget is only available when the cell has been executed in the\n",
              "      current browser session. Please rerun this cell to enable.\n",
              "      </output>\n",
              "      <script src=\"/nbextensions/google.colab/files.js\"></script> "
            ],
            "text/plain": [
              "<IPython.core.display.HTML object>"
            ]
          },
          "metadata": {
            "tags": []
          }
        },
        {
          "output_type": "stream",
          "text": [
            "Saving dataset.csv to dataset (1).csv\n"
          ],
          "name": "stdout"
        }
      ]
    },
    {
      "cell_type": "code",
      "metadata": {
        "id": "zKKPlG8Lvwn6"
      },
      "source": [
        "df = pd.read_csv(io.BytesIO(uploaded['dataset.csv']))"
      ],
      "execution_count": null,
      "outputs": []
    },
    {
      "cell_type": "markdown",
      "metadata": {
        "id": "vaeHZyWGv39G"
      },
      "source": [
        "## Data Exploration and Preprocessing"
      ]
    },
    {
      "cell_type": "markdown",
      "metadata": {
        "id": "UVj3pOFrv-Af"
      },
      "source": [
        "First we use describe() method to get some basic statistical summary of the data frame. As we see the minimum Rate is -3, by further exploration we could see there are some rows which we need to delete due to allowed range for Rate column."
      ]
    },
    {
      "cell_type": "code",
      "metadata": {
        "colab": {
          "base_uri": "https://localhost:8080/",
          "height": 488
        },
        "id": "01qMLO5ev5u9",
        "outputId": "50b4ab20-a76a-469b-c7cd-77226c786f6e"
      },
      "source": [
        "df.describe(include=\"all\").T"
      ],
      "execution_count": null,
      "outputs": [
        {
          "output_type": "execute_result",
          "data": {
            "text/html": [
              "<div>\n",
              "<style scoped>\n",
              "    .dataframe tbody tr th:only-of-type {\n",
              "        vertical-align: middle;\n",
              "    }\n",
              "\n",
              "    .dataframe tbody tr th {\n",
              "        vertical-align: top;\n",
              "    }\n",
              "\n",
              "    .dataframe thead th {\n",
              "        text-align: right;\n",
              "    }\n",
              "</style>\n",
              "<table border=\"1\" class=\"dataframe\">\n",
              "  <thead>\n",
              "    <tr style=\"text-align: right;\">\n",
              "      <th></th>\n",
              "      <th>count</th>\n",
              "      <th>unique</th>\n",
              "      <th>top</th>\n",
              "      <th>freq</th>\n",
              "      <th>mean</th>\n",
              "      <th>std</th>\n",
              "      <th>min</th>\n",
              "      <th>25%</th>\n",
              "      <th>50%</th>\n",
              "      <th>75%</th>\n",
              "      <th>max</th>\n",
              "    </tr>\n",
              "  </thead>\n",
              "  <tbody>\n",
              "    <tr>\n",
              "      <th>id</th>\n",
              "      <td>24855</td>\n",
              "      <td>24855</td>\n",
              "      <td>QsEFjiCUFKGRXXCQFNDX2U</td>\n",
              "      <td>1</td>\n",
              "      <td>NaN</td>\n",
              "      <td>NaN</td>\n",
              "      <td>NaN</td>\n",
              "      <td>NaN</td>\n",
              "      <td>NaN</td>\n",
              "      <td>NaN</td>\n",
              "      <td>NaN</td>\n",
              "    </tr>\n",
              "    <tr>\n",
              "      <th>ProId</th>\n",
              "      <td>24855</td>\n",
              "      <td>4161</td>\n",
              "      <td>qv8L6yefk2guJzZn4FtGMj</td>\n",
              "      <td>700</td>\n",
              "      <td>NaN</td>\n",
              "      <td>NaN</td>\n",
              "      <td>NaN</td>\n",
              "      <td>NaN</td>\n",
              "      <td>NaN</td>\n",
              "      <td>NaN</td>\n",
              "      <td>NaN</td>\n",
              "    </tr>\n",
              "    <tr>\n",
              "      <th>ProCreationTimestamp</th>\n",
              "      <td>24855</td>\n",
              "      <td>NaN</td>\n",
              "      <td>NaN</td>\n",
              "      <td>NaN</td>\n",
              "      <td>1.54304e+12</td>\n",
              "      <td>1.63998e+10</td>\n",
              "      <td>1.50773e+12</td>\n",
              "      <td>1.53228e+12</td>\n",
              "      <td>1.54495e+12</td>\n",
              "      <td>1.55594e+12</td>\n",
              "      <td>1.57583e+12</td>\n",
              "    </tr>\n",
              "    <tr>\n",
              "      <th>CustId</th>\n",
              "      <td>24855</td>\n",
              "      <td>19284</td>\n",
              "      <td>muDxBgbnj7oWew7k6stcLw</td>\n",
              "      <td>24</td>\n",
              "      <td>NaN</td>\n",
              "      <td>NaN</td>\n",
              "      <td>NaN</td>\n",
              "      <td>NaN</td>\n",
              "      <td>NaN</td>\n",
              "      <td>NaN</td>\n",
              "      <td>NaN</td>\n",
              "    </tr>\n",
              "    <tr>\n",
              "      <th>CustCreationTimestamp</th>\n",
              "      <td>24855</td>\n",
              "      <td>NaN</td>\n",
              "      <td>NaN</td>\n",
              "      <td>NaN</td>\n",
              "      <td>1.55151e+12</td>\n",
              "      <td>1.61106e+10</td>\n",
              "      <td>1.49735e+12</td>\n",
              "      <td>1.54211e+12</td>\n",
              "      <td>1.55499e+12</td>\n",
              "      <td>1.56355e+12</td>\n",
              "      <td>1.57591e+12</td>\n",
              "    </tr>\n",
              "    <tr>\n",
              "      <th>Rate</th>\n",
              "      <td>24855</td>\n",
              "      <td>NaN</td>\n",
              "      <td>NaN</td>\n",
              "      <td>NaN</td>\n",
              "      <td>4.30006</td>\n",
              "      <td>1.29598</td>\n",
              "      <td>-3</td>\n",
              "      <td>4</td>\n",
              "      <td>5</td>\n",
              "      <td>5</td>\n",
              "      <td>5</td>\n",
              "    </tr>\n",
              "    <tr>\n",
              "      <th>TaskCreationTimestamp</th>\n",
              "      <td>24855</td>\n",
              "      <td>NaN</td>\n",
              "      <td>NaN</td>\n",
              "      <td>NaN</td>\n",
              "      <td>1.55613e+12</td>\n",
              "      <td>1.51506e+10</td>\n",
              "      <td>1.49735e+12</td>\n",
              "      <td>1.5484e+12</td>\n",
              "      <td>1.55975e+12</td>\n",
              "      <td>1.56725e+12</td>\n",
              "      <td>1.57596e+12</td>\n",
              "    </tr>\n",
              "    <tr>\n",
              "      <th>Price</th>\n",
              "      <td>18866</td>\n",
              "      <td>NaN</td>\n",
              "      <td>NaN</td>\n",
              "      <td>NaN</td>\n",
              "      <td>513764</td>\n",
              "      <td>4.70742e+06</td>\n",
              "      <td>0</td>\n",
              "      <td>65000</td>\n",
              "      <td>110000</td>\n",
              "      <td>282000</td>\n",
              "      <td>3.6e+08</td>\n",
              "    </tr>\n",
              "    <tr>\n",
              "      <th>ServiceId</th>\n",
              "      <td>24855</td>\n",
              "      <td>213</td>\n",
              "      <td>UX7m6RWnKWvmw82URCyUMB</td>\n",
              "      <td>4203</td>\n",
              "      <td>NaN</td>\n",
              "      <td>NaN</td>\n",
              "      <td>NaN</td>\n",
              "      <td>NaN</td>\n",
              "      <td>NaN</td>\n",
              "      <td>NaN</td>\n",
              "      <td>NaN</td>\n",
              "    </tr>\n",
              "    <tr>\n",
              "      <th>CategoryId</th>\n",
              "      <td>24855</td>\n",
              "      <td>8</td>\n",
              "      <td>VzkJEPR5H3mnqctJ8TW3YS</td>\n",
              "      <td>22629</td>\n",
              "      <td>NaN</td>\n",
              "      <td>NaN</td>\n",
              "      <td>NaN</td>\n",
              "      <td>NaN</td>\n",
              "      <td>NaN</td>\n",
              "      <td>NaN</td>\n",
              "      <td>NaN</td>\n",
              "    </tr>\n",
              "    <tr>\n",
              "      <th>ZoneId</th>\n",
              "      <td>24855</td>\n",
              "      <td>43</td>\n",
              "      <td>XZCnwH2vCRhHReoVx9X3XV</td>\n",
              "      <td>18593</td>\n",
              "      <td>NaN</td>\n",
              "      <td>NaN</td>\n",
              "      <td>NaN</td>\n",
              "      <td>NaN</td>\n",
              "      <td>NaN</td>\n",
              "      <td>NaN</td>\n",
              "      <td>NaN</td>\n",
              "    </tr>\n",
              "    <tr>\n",
              "      <th>TaskState</th>\n",
              "      <td>24855</td>\n",
              "      <td>3</td>\n",
              "      <td>Finished</td>\n",
              "      <td>24853</td>\n",
              "      <td>NaN</td>\n",
              "      <td>NaN</td>\n",
              "      <td>NaN</td>\n",
              "      <td>NaN</td>\n",
              "      <td>NaN</td>\n",
              "      <td>NaN</td>\n",
              "      <td>NaN</td>\n",
              "    </tr>\n",
              "    <tr>\n",
              "      <th>TargetProId</th>\n",
              "      <td>2551</td>\n",
              "      <td>980</td>\n",
              "      <td>q8yHdbLDLMfoyaMfHB3Ydi</td>\n",
              "      <td>81</td>\n",
              "      <td>NaN</td>\n",
              "      <td>NaN</td>\n",
              "      <td>NaN</td>\n",
              "      <td>NaN</td>\n",
              "      <td>NaN</td>\n",
              "      <td>NaN</td>\n",
              "      <td>NaN</td>\n",
              "    </tr>\n",
              "    <tr>\n",
              "      <th>isFraud</th>\n",
              "      <td>24855</td>\n",
              "      <td>2</td>\n",
              "      <td>False</td>\n",
              "      <td>23315</td>\n",
              "      <td>NaN</td>\n",
              "      <td>NaN</td>\n",
              "      <td>NaN</td>\n",
              "      <td>NaN</td>\n",
              "      <td>NaN</td>\n",
              "      <td>NaN</td>\n",
              "      <td>NaN</td>\n",
              "    </tr>\n",
              "  </tbody>\n",
              "</table>\n",
              "</div>"
            ],
            "text/plain": [
              "                       count unique  ...          75%          max\n",
              "id                     24855  24855  ...          NaN          NaN\n",
              "ProId                  24855   4161  ...          NaN          NaN\n",
              "ProCreationTimestamp   24855    NaN  ...  1.55594e+12  1.57583e+12\n",
              "CustId                 24855  19284  ...          NaN          NaN\n",
              "CustCreationTimestamp  24855    NaN  ...  1.56355e+12  1.57591e+12\n",
              "Rate                   24855    NaN  ...            5            5\n",
              "TaskCreationTimestamp  24855    NaN  ...  1.56725e+12  1.57596e+12\n",
              "Price                  18866    NaN  ...       282000      3.6e+08\n",
              "ServiceId              24855    213  ...          NaN          NaN\n",
              "CategoryId             24855      8  ...          NaN          NaN\n",
              "ZoneId                 24855     43  ...          NaN          NaN\n",
              "TaskState              24855      3  ...          NaN          NaN\n",
              "TargetProId             2551    980  ...          NaN          NaN\n",
              "isFraud                24855      2  ...          NaN          NaN\n",
              "\n",
              "[14 rows x 11 columns]"
            ]
          },
          "metadata": {
            "tags": []
          },
          "execution_count": 145
        }
      ]
    },
    {
      "cell_type": "code",
      "metadata": {
        "colab": {
          "base_uri": "https://localhost:8080/"
        },
        "id": "NKo5kpEDwFri",
        "outputId": "68673241-646b-4a3d-f3fb-4f37e32eba34"
      },
      "source": [
        "df = df[(df.Rate>=0) & (df.Rate<=5)]\n",
        "df.shape"
      ],
      "execution_count": null,
      "outputs": [
        {
          "output_type": "execute_result",
          "data": {
            "text/plain": [
              "(24851, 14)"
            ]
          },
          "metadata": {
            "tags": []
          },
          "execution_count": 146
        }
      ]
    },
    {
      "cell_type": "markdown",
      "metadata": {
        "id": "_RA2pEQwwQzD"
      },
      "source": [
        "By checking the frequency of the target variable that is fraudulent and not fraudulent we understand that we are faced with an imbalanced dataset"
      ]
    },
    {
      "cell_type": "code",
      "metadata": {
        "colab": {
          "base_uri": "https://localhost:8080/"
        },
        "id": "kInk1uGswL8A",
        "outputId": "537b9175-a58d-43e4-d423-e6e3567a8e71"
      },
      "source": [
        "df.isFraud.value_counts()"
      ],
      "execution_count": null,
      "outputs": [
        {
          "output_type": "execute_result",
          "data": {
            "text/plain": [
              "False    23311\n",
              "True      1540\n",
              "Name: isFraud, dtype: int64"
            ]
          },
          "metadata": {
            "tags": []
          },
          "execution_count": 147
        }
      ]
    },
    {
      "cell_type": "markdown",
      "metadata": {
        "id": "lG5f7pdTwdCv"
      },
      "source": [
        "Visualize the target variable"
      ]
    },
    {
      "cell_type": "code",
      "metadata": {
        "colab": {
          "base_uri": "https://localhost:8080/",
          "height": 334
        },
        "id": "IKobuQIZwfVV",
        "outputId": "aae48e7c-3326-401d-d84b-1b5cf32916ad"
      },
      "source": [
        "plt.figure(figsize=(5,5))\n",
        "ax = sns.countplot(data=df, x=\"isFraud\")\n",
        "ax.set_xticklabels(['Not Fraud','Fraud'])\n",
        "plt.show()"
      ],
      "execution_count": null,
      "outputs": [
        {
          "output_type": "display_data",
          "data": {
            "image/png": "[encoded data removed]",
            "text/plain": [
              "<Figure size 360x360 with 1 Axes>"
            ]
          },
          "metadata": {
            "tags": [],
            "needs_background": "light"
          }
        }
      ]
    },
    {
      "cell_type": "markdown",
      "metadata": {
        "id": "XQxTkitCNEa9"
      },
      "source": [
        "</br>\n",
        "</br>"
      ]
    },
    {
      "cell_type": "code",
      "metadata": {
        "colab": {
          "base_uri": "https://localhost:8080/"
        },
        "id": "8JmDHg22F4F9",
        "outputId": "aa329d00-25c1-43ec-a603-526d125e80a6"
      },
      "source": [
        "df.TaskState.value_counts()"
      ],
      "execution_count": null,
      "outputs": [
        {
          "output_type": "execute_result",
          "data": {
            "text/plain": [
              "Finished    24849\n",
              "Waiting         1\n",
              "Canceled        1\n",
              "Name: TaskState, dtype: int64"
            ]
          },
          "metadata": {
            "tags": []
          },
          "execution_count": 149
        }
      ]
    },
    {
      "cell_type": "markdown",
      "metadata": {
        "id": "NHANe8ytwsoK"
      },
      "source": [
        "Check for missing values"
      ]
    },
    {
      "cell_type": "code",
      "metadata": {
        "colab": {
          "base_uri": "https://localhost:8080/"
        },
        "id": "UKa1d54bwyAY",
        "outputId": "49975025-e162-44c6-f262-f8418e2c5c10"
      },
      "source": [
        "df.isna().sum()"
      ],
      "execution_count": null,
      "outputs": [
        {
          "output_type": "execute_result",
          "data": {
            "text/plain": [
              "id                           0\n",
              "ProId                        0\n",
              "ProCreationTimestamp         0\n",
              "CustId                       0\n",
              "CustCreationTimestamp        0\n",
              "Rate                         0\n",
              "TaskCreationTimestamp        0\n",
              "Price                     5987\n",
              "ServiceId                    0\n",
              "CategoryId                   0\n",
              "ZoneId                       0\n",
              "TaskState                    0\n",
              "TargetProId              22300\n",
              "isFraud                      0\n",
              "dtype: int64"
            ]
          },
          "metadata": {
            "tags": []
          },
          "execution_count": 150
        }
      ]
    },
    {
      "cell_type": "markdown",
      "metadata": {
        "id": "ZhPiQPm1w2-S"
      },
      "source": [
        "Fill missing value of price with the mean of price column"
      ]
    },
    {
      "cell_type": "code",
      "metadata": {
        "id": "ExqKKFIzw0N9"
      },
      "source": [
        "df[\"hasPrice\"] = df.Price.notna()\n",
        "df.Price.fillna(df.Price.mean(), inplace=True)"
      ],
      "execution_count": null,
      "outputs": []
    },
    {
      "cell_type": "markdown",
      "metadata": {
        "id": "w4i-CZHFnhah"
      },
      "source": [
        " Make a column to see if the customer prefer a specific professional"
      ]
    },
    {
      "cell_type": "code",
      "metadata": {
        "id": "7N0Efl7GnyC5"
      },
      "source": [
        "df[\"hasTargetPro\"] = df.TargetProId.notna()"
      ],
      "execution_count": null,
      "outputs": []
    },
    {
      "cell_type": "markdown",
      "metadata": {
        "id": "5-kKLjNin1bd"
      },
      "source": [
        "Make two column to measure time delta between the creation of professional account and customer account and time delta between customer account creation and task creation time"
      ]
    },
    {
      "cell_type": "code",
      "metadata": {
        "id": "UyIUX70ZD1yf"
      },
      "source": [
        "df[\"DeltaProCustCreationTimestamp\"] = abs(df.ProCreationTimestamp - df.CustCreationTimestamp)\n",
        "df[\"DeltaCustTaskCreationTimestamp\"] = abs(df.CustCreationTimestamp - df.TaskCreationTimestamp)"
      ],
      "execution_count": null,
      "outputs": []
    },
    {
      "cell_type": "markdown",
      "metadata": {
        "id": "-lB1G-V9w9e1"
      },
      "source": [
        "Check to see if there is a relationship between fraudulent and filling the TargetProId (as the p_value is less then 0.05 so we reject the null hypothesis and we can say there is a relationship between being fraudulent and having the TargetProId)"
      ]
    },
    {
      "cell_type": "code",
      "metadata": {
        "colab": {
          "base_uri": "https://localhost:8080/"
        },
        "id": "LopHMo5Rw5qI",
        "outputId": "f8c8f1f4-ef8e-4d7d-e940-ecb07f54bab5"
      },
      "source": [
        "table = pd.crosstab(df.isFraud, df.hasTargetPro)\n",
        "chi2, pval, dof, expected = chi2_contingency(table)\n",
        "pval"
      ],
      "execution_count": null,
      "outputs": [
        {
          "output_type": "execute_result",
          "data": {
            "text/plain": [
              "0.0003302236575024572"
            ]
          },
          "metadata": {
            "tags": []
          },
          "execution_count": 154
        }
      ]
    },
    {
      "cell_type": "markdown",
      "metadata": {
        "id": "te4_tZmSxEAq"
      },
      "source": [
        "Check to see if there is a relationship between fraudulent and the Price column having a value (as the p_value is less then 0.05 so we reject the null hypothesis and we can say there is a relationship between being fraudulent and  the Price column being filled)"
      ]
    },
    {
      "cell_type": "code",
      "metadata": {
        "colab": {
          "base_uri": "https://localhost:8080/"
        },
        "id": "rWX1SoaZxAhj",
        "outputId": "71155f18-fcf8-4586-ca39-e26fbd56158b"
      },
      "source": [
        "table = pd.crosstab( df.isFraud, df.hasPrice)\n",
        "chi2, pval, dof, expected = chi2_contingency(table)\n",
        "pval"
      ],
      "execution_count": null,
      "outputs": [
        {
          "output_type": "execute_result",
          "data": {
            "text/plain": [
              "0.00031995134144622466"
            ]
          },
          "metadata": {
            "tags": []
          },
          "execution_count": 155
        }
      ]
    },
    {
      "cell_type": "markdown",
      "metadata": {
        "id": "by_63ph2xKnl"
      },
      "source": [
        "## Convert Categorical data to numerical"
      ]
    },
    {
      "cell_type": "code",
      "metadata": {
        "id": "1CxBJa29xGPd"
      },
      "source": [
        "df[\"isFraud\"] = df.isFraud.map({False:0, True:1})\n",
        "df[\"hasTargetPro\"] = df.hasTargetPro.map({False:0, True:1})\n",
        "df[\"hasPrice\"] = df.hasPrice.map({False:0, True:1})\n",
        "df = pd.get_dummies(data=df, columns=['CategoryId'], drop_first=True)"
      ],
      "execution_count": null,
      "outputs": []
    },
    {
      "cell_type": "markdown",
      "metadata": {
        "id": "SVo2hjH0tq64"
      },
      "source": [
        "</br>"
      ]
    },
    {
      "cell_type": "code",
      "metadata": {
        "colab": {
          "base_uri": "https://localhost:8080/"
        },
        "id": "OpoXSZivxM30",
        "outputId": "d5593b70-edd0-4e27-b91e-649e854aa01a"
      },
      "source": [
        "df.columns"
      ],
      "execution_count": null,
      "outputs": [
        {
          "output_type": "execute_result",
          "data": {
            "text/plain": [
              "Index(['id', 'ProId', 'ProCreationTimestamp', 'CustId',\n",
              "       'CustCreationTimestamp', 'Rate', 'TaskCreationTimestamp', 'Price',\n",
              "       'ServiceId', 'ZoneId', 'TaskState', 'TargetProId', 'isFraud',\n",
              "       'hasPrice', 'hasTargetPro', 'DeltaProCustCreationTimestamp',\n",
              "       'DeltaCustTaskCreationTimestamp', 'CategoryId_HnKFgSQGdwEj7q6Z8ws4cb',\n",
              "       'CategoryId_JdqYJwUosvwivsFdThmcXe',\n",
              "       'CategoryId_L3a2wDTjmBCiSEE5nzkomU',\n",
              "       'CategoryId_VzkJEPR5H3mnqctJ8TW3YS',\n",
              "       'CategoryId_kRyJUveqktavaCXyhPdceK',\n",
              "       'CategoryId_qgqzVtnssiJTjR7tjbWW6m',\n",
              "       'CategoryId_v97njuq76L7f36VHZPbuJX'],\n",
              "      dtype='object')"
            ]
          },
          "metadata": {
            "tags": []
          },
          "execution_count": 157
        }
      ]
    },
    {
      "cell_type": "code",
      "metadata": {
        "id": "VVcQLOVKxQ1d"
      },
      "source": [
        "X = df.drop(columns=[\"isFraud\", \"id\", \"ProId\", \"CustId\", \"ServiceId\", \"TargetProId\", \"TaskState\", \"ZoneId\" ])\n",
        "y = df.isFraud"
      ],
      "execution_count": null,
      "outputs": []
    },
    {
      "cell_type": "markdown",
      "metadata": {
        "id": "q9n1mcvvxZpi"
      },
      "source": [
        "## Split Data to Train and Test parts"
      ]
    },
    {
      "cell_type": "code",
      "metadata": {
        "id": "FUbk39skxUvr"
      },
      "source": [
        "X_train, X_test, y_train, y_test = train_test_split(X, y, test_size=0.2, stratify=y, random_state=1) "
      ],
      "execution_count": null,
      "outputs": []
    },
    {
      "cell_type": "code",
      "metadata": {
        "id": "9pnp08S6xcKS"
      },
      "source": [
        "train = pd.concat([X_train, y_train], axis = 1)\n"
      ],
      "execution_count": null,
      "outputs": []
    },
    {
      "cell_type": "markdown",
      "metadata": {
        "id": "uRaceyCGxg-G"
      },
      "source": [
        "## Up Sampling"
      ]
    },
    {
      "cell_type": "markdown",
      "metadata": {
        "id": "tajcouVtucC2"
      },
      "source": [
        "Since our data is imbalanced we need to balance it. The approach that we used here is up sampling because we don't have a lot of data."
      ]
    },
    {
      "cell_type": "code",
      "metadata": {
        "id": "oo-yFfGGxd19"
      },
      "source": [
        "# separate the samples of two classes(Fraudulent and normal cases) into distinct data frames\n",
        "Fraud_df = train[train.isFraud == 1]\n",
        "NO_Fraud_df = train[train.isFraud == 0]\n",
        "\n",
        "# resample the minority class up to majority class size\n",
        "up_sample_size = NO_Fraud_df.shape[0]\n",
        "Up_Sample_Fraud_df = resample(Fraud_df, n_samples=up_sample_size , random_state=1, replace = True)\n",
        "Up_Sample_Fraud_df.shape\n",
        "\n",
        "# merge the two data frames to make a balanced data frame\n",
        "udf = pd.concat([Up_Sample_Fraud_df, NO_Fraud_df], axis = 0)\n",
        "# shuffle data\n",
        "udf = udf.sample(frac=1)"
      ],
      "execution_count": null,
      "outputs": []
    },
    {
      "cell_type": "markdown",
      "metadata": {
        "id": "4DTcCZchxrU4"
      },
      "source": [
        "## Normalization"
      ]
    },
    {
      "cell_type": "code",
      "metadata": {
        "id": "tndFIX2VxokI"
      },
      "source": [
        "normalizer = MinMaxScaler()\n",
        "X_train_normal_u = normalizer.fit_transform(udf.drop(columns=\"isFraud\"))\n",
        "X_test_normal_u = normalizer.transform(X_test)"
      ],
      "execution_count": null,
      "outputs": []
    },
    {
      "cell_type": "markdown",
      "metadata": {
        "id": "4rOKiL_GzMpF"
      },
      "source": [
        "## Random Forest"
      ]
    },
    {
      "cell_type": "markdown",
      "metadata": {
        "id": "6oHrZL4syub3"
      },
      "source": [
        "Because of hierarchical structure of trees they allow us to consider both classes and have a quite good performance among other classic machine learning algorithms with imbalanced data. Here we used random forest cause it's better than a tree because of less overfitting problem."
      ]
    },
    {
      "cell_type": "markdown",
      "metadata": {
        "id": "9U07QbelBZwM"
      },
      "source": [
        "Accuracy is not a good metric for our imbalanced problem. A better metric can be f1 score and auc score. Also percision is more important than recall in our problem as in our problem false-positive is more of a concern."
      ]
    },
    {
      "cell_type": "code",
      "metadata": {
        "colab": {
          "base_uri": "https://localhost:8080/"
        },
        "id": "3qxihuN_KORR",
        "outputId": "446b2c27-3953-4b6a-e68b-c882b96463ff"
      },
      "source": [
        "rf = RandomForestClassifier(n_estimators = 500, random_state = 1)\n",
        "rf.fit(udf.drop(columns=\"isFraud\"), udf.isFraud)\n",
        "y_pred = rf.predict(X_test)\n",
        "\n",
        "print(\"accuracy score: {:.2f}\".format(accuracy_score(y_test, y_pred)))\n",
        "print(\"f1_score: {:.2f}\".format(f1_score(y_test, y_pred)))\n",
        "print(\"recall score: {:.2f}\".format(recall_score(y_test, y_pred)))\n",
        "print(\"precision score: {:.2f}\".format(precision_score(y_test, y_pred)))\n",
        "print(\"roc_auc score: {:.2f}\".format(roc_auc_score(y_test, y_pred)))"
      ],
      "execution_count": null,
      "outputs": [
        {
          "output_type": "stream",
          "text": [
            "accuracy score: 0.95\n",
            "f1_score: 0.54\n",
            "recall score: 0.44\n",
            "precision score: 0.69\n",
            "roc_auc score: 0.71\n"
          ],
          "name": "stdout"
        }
      ]
    }
  ]
}